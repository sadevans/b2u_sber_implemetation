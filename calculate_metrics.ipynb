{
 "cells": [
  {
   "cell_type": "code",
   "execution_count": 4,
   "metadata": {},
   "outputs": [],
   "source": [
    "import os\n",
    "import logging\n",
    "import time\n",
    "import glob\n",
    "import datetime\n",
    "import argparse\n",
    "import numpy as np\n",
    "from scipy.io import loadmat, savemat\n",
    "from sklearn.feature_extraction import image\n",
    "from skimage.metrics import peak_signal_noise_ratio, structural_similarity, mean_squared_error\n",
    "from glob import glob\n",
    "\n",
    "import cv2\n",
    "from PIL import Image"
   ]
  },
  {
   "cell_type": "code",
   "execution_count": 5,
   "metadata": {},
   "outputs": [],
   "source": [
    "def write_in_file(metrics, name_metric, name_dataset):\n",
    "    with open(f\"./metrics/{name_dataset}_{name_metric}.txt\", \"w\") as file:\n",
    "        for metric in metrics:\n",
    "            file.write(str(metric) + '\\n')"
   ]
  },
  {
   "cell_type": "code",
   "execution_count": 3,
   "metadata": {},
   "outputs": [
    {
     "data": {
      "text/plain": [
       "['/home/aleksandra/SSD/vscode/Blind2Unblind/data/train/Crystal_focus_0_dose_180/G113_C10_R0___06.tif',\n",
       " '/home/aleksandra/SSD/vscode/Blind2Unblind/data/train/Crystal_focus_0_dose_180/G113_C11_R0___05.tif',\n",
       " '/home/aleksandra/SSD/vscode/Blind2Unblind/data/train/Crystal_focus_0_dose_180/G122_C11_R0___07.tif',\n",
       " '/home/aleksandra/SSD/vscode/Blind2Unblind/data/train/Crystal_focus_0_dose_180/G140_C11_R0___00.tif',\n",
       " '/home/aleksandra/SSD/vscode/Blind2Unblind/data/train/Crystal_focus_0_dose_180/G20_C11_R0___01.tif',\n",
       " '/home/aleksandra/SSD/vscode/Blind2Unblind/data/train/Crystal_focus_0_dose_180/G211_C11_R0___03.tif',\n",
       " '/home/aleksandra/SSD/vscode/Blind2Unblind/data/train/Crystal_focus_0_dose_180/G40_C11_R0___02.tif',\n",
       " '/home/aleksandra/SSD/vscode/Blind2Unblind/data/train/Crystal_focus_0_dose_180/G59_C10_R1___17.tif',\n",
       " '/home/aleksandra/SSD/vscode/Blind2Unblind/data/train/Crystal_focus_0_dose_180/G59_C11_R1___18.tif',\n",
       " '/home/aleksandra/SSD/vscode/Blind2Unblind/data/train/Crystal_focus_0_dose_180/G59_C12_R1___19.tif',\n",
       " '/home/aleksandra/SSD/vscode/Blind2Unblind/data/train/Crystal_focus_0_dose_180/G59_C13_R1___20.tif',\n",
       " '/home/aleksandra/SSD/vscode/Blind2Unblind/data/train/Crystal_focus_0_dose_180/G59_C14_R1___21.tif',\n",
       " '/home/aleksandra/SSD/vscode/Blind2Unblind/data/train/Crystal_focus_0_dose_180/G59_C15_R1___22.tif',\n",
       " '/home/aleksandra/SSD/vscode/Blind2Unblind/data/train/Crystal_focus_0_dose_180/G59_C16_R1___23.tif',\n",
       " '/home/aleksandra/SSD/vscode/Blind2Unblind/data/train/Crystal_focus_0_dose_180/G59_C17_R1___24.tif',\n",
       " '/home/aleksandra/SSD/vscode/Blind2Unblind/data/train/Crystal_focus_0_dose_180/G59_C18_R1___25.tif',\n",
       " '/home/aleksandra/SSD/vscode/Blind2Unblind/data/train/Crystal_focus_0_dose_180/G59_C19_R1___26.tif',\n",
       " '/home/aleksandra/SSD/vscode/Blind2Unblind/data/train/Crystal_focus_0_dose_180/G59_C1_R1___08.tif',\n",
       " '/home/aleksandra/SSD/vscode/Blind2Unblind/data/train/Crystal_focus_0_dose_180/G59_C20_R1___27.tif',\n",
       " '/home/aleksandra/SSD/vscode/Blind2Unblind/data/train/Crystal_focus_0_dose_180/G59_C21_R1___28.tif',\n",
       " '/home/aleksandra/SSD/vscode/Blind2Unblind/data/train/Crystal_focus_0_dose_180/G59_C22_R1___29.tif',\n",
       " '/home/aleksandra/SSD/vscode/Blind2Unblind/data/train/Crystal_focus_0_dose_180/G59_C23_R1___30.tif',\n",
       " '/home/aleksandra/SSD/vscode/Blind2Unblind/data/train/Crystal_focus_0_dose_180/G59_C24_R1___31.tif',\n",
       " '/home/aleksandra/SSD/vscode/Blind2Unblind/data/train/Crystal_focus_0_dose_180/G59_C25_R1___32.tif',\n",
       " '/home/aleksandra/SSD/vscode/Blind2Unblind/data/train/Crystal_focus_0_dose_180/G59_C26_R1___33.tif',\n",
       " '/home/aleksandra/SSD/vscode/Blind2Unblind/data/train/Crystal_focus_0_dose_180/G59_C27_R1___34.tif',\n",
       " '/home/aleksandra/SSD/vscode/Blind2Unblind/data/train/Crystal_focus_0_dose_180/G59_C28_R1___35.tif',\n",
       " '/home/aleksandra/SSD/vscode/Blind2Unblind/data/train/Crystal_focus_0_dose_180/G59_C29_R1___36.tif',\n",
       " '/home/aleksandra/SSD/vscode/Blind2Unblind/data/train/Crystal_focus_0_dose_180/G59_C2_R1___09.tif',\n",
       " '/home/aleksandra/SSD/vscode/Blind2Unblind/data/train/Crystal_focus_0_dose_180/G59_C30_R1___37.tif',\n",
       " '/home/aleksandra/SSD/vscode/Blind2Unblind/data/train/Crystal_focus_0_dose_180/G59_C31_R1___38.tif',\n",
       " '/home/aleksandra/SSD/vscode/Blind2Unblind/data/train/Crystal_focus_0_dose_180/G59_C32_R1___39.tif',\n",
       " '/home/aleksandra/SSD/vscode/Blind2Unblind/data/train/Crystal_focus_0_dose_180/G59_C33_R1___40.tif',\n",
       " '/home/aleksandra/SSD/vscode/Blind2Unblind/data/train/Crystal_focus_0_dose_180/G59_C34_R1___41.tif',\n",
       " '/home/aleksandra/SSD/vscode/Blind2Unblind/data/train/Crystal_focus_0_dose_180/G59_C35_R1___42.tif',\n",
       " '/home/aleksandra/SSD/vscode/Blind2Unblind/data/train/Crystal_focus_0_dose_180/G59_C36_R1___43.tif',\n",
       " '/home/aleksandra/SSD/vscode/Blind2Unblind/data/train/Crystal_focus_0_dose_180/G59_C37_R1___44.tif',\n",
       " '/home/aleksandra/SSD/vscode/Blind2Unblind/data/train/Crystal_focus_0_dose_180/G59_C38_R1___45.tif',\n",
       " '/home/aleksandra/SSD/vscode/Blind2Unblind/data/train/Crystal_focus_0_dose_180/G59_C39_R1___46.tif',\n",
       " '/home/aleksandra/SSD/vscode/Blind2Unblind/data/train/Crystal_focus_0_dose_180/G59_C3_R1___10.tif',\n",
       " '/home/aleksandra/SSD/vscode/Blind2Unblind/data/train/Crystal_focus_0_dose_180/G59_C40_R1___47.tif',\n",
       " '/home/aleksandra/SSD/vscode/Blind2Unblind/data/train/Crystal_focus_0_dose_180/G59_C41_R1___48.tif',\n",
       " '/home/aleksandra/SSD/vscode/Blind2Unblind/data/train/Crystal_focus_0_dose_180/G59_C42_R1___49.tif',\n",
       " '/home/aleksandra/SSD/vscode/Blind2Unblind/data/train/Crystal_focus_0_dose_180/G59_C43_R1___50.tif',\n",
       " '/home/aleksandra/SSD/vscode/Blind2Unblind/data/train/Crystal_focus_0_dose_180/G59_C44_R1___51.tif',\n",
       " '/home/aleksandra/SSD/vscode/Blind2Unblind/data/train/Crystal_focus_0_dose_180/G59_C45_R1___52.tif',\n",
       " '/home/aleksandra/SSD/vscode/Blind2Unblind/data/train/Crystal_focus_0_dose_180/G59_C46_R1___53.tif',\n",
       " '/home/aleksandra/SSD/vscode/Blind2Unblind/data/train/Crystal_focus_0_dose_180/G59_C47_R1___54.tif',\n",
       " '/home/aleksandra/SSD/vscode/Blind2Unblind/data/train/Crystal_focus_0_dose_180/G59_C4_R1___11.tif',\n",
       " '/home/aleksandra/SSD/vscode/Blind2Unblind/data/train/Crystal_focus_0_dose_180/G59_C5_R1___12.tif',\n",
       " '/home/aleksandra/SSD/vscode/Blind2Unblind/data/train/Crystal_focus_0_dose_180/G59_C6_R1___13.tif',\n",
       " '/home/aleksandra/SSD/vscode/Blind2Unblind/data/train/Crystal_focus_0_dose_180/G59_C7_R1___14.tif',\n",
       " '/home/aleksandra/SSD/vscode/Blind2Unblind/data/train/Crystal_focus_0_dose_180/G59_C8_R1___15.tif',\n",
       " '/home/aleksandra/SSD/vscode/Blind2Unblind/data/train/Crystal_focus_0_dose_180/G59_C9_R1___16.tif',\n",
       " '/home/aleksandra/SSD/vscode/Blind2Unblind/data/train/Crystal_focus_0_dose_180/G90_C11_R0___04.tif']"
      ]
     },
     "execution_count": 3,
     "metadata": {},
     "output_type": "execute_result"
    }
   ],
   "source": [
    "dataset_name = 'Crystal_focus_0_dose_180'\n",
    "original_dir = f'./data/train/{dataset_name}/'\n",
    "denoised_dir = './test/b2u_Crystal/'\n",
    "\n",
    "original_ext = os.path.splitext(os.listdir(original_dir)[0])[1]\n",
    "denoised_ext = os.path.splitext(os.listdir(denoised_dir)[0])[1]\n",
    "\n",
    "file_list_original = sorted(glob(os.path.join(os.path.abspath(original_dir), '*' + original_ext)))\n",
    "file_list_denoised = sorted(glob(os.path.join(os.path.abspath(denoised_dir), '*' + denoised_ext)))\n",
    "\n",
    "os.makedirs('./metrics/', exist_ok=True)"
   ]
  },
  {
   "cell_type": "code",
   "execution_count": null,
   "metadata": {},
   "outputs": [],
   "source": [
    "msd_value = []\n",
    "psnr_value = []\n",
    "ssim_value = []\n",
    "\n",
    "for original, denoised in zip(file_list_original, file_list_denoised):\n",
    "    original = cv2.imread(original, 0)\n",
    "    denoised = cv2.imread(denoised, 0)\n",
    "\n",
    "    msd = mean_squared_error(original, denoised)\n",
    "    psnr = peak_signal_noise_ratio(denoised, original)\n",
    "    ssim = structural_similarity(original, denoised)\n",
    "\n",
    "    msd_value.append(msd)\n",
    "    psnr_value.append(psnr)\n",
    "    ssim_value.append(ssim)"
   ]
  },
  {
   "cell_type": "code",
   "execution_count": 6,
   "metadata": {},
   "outputs": [
    {
     "ename": "NameError",
     "evalue": "name 'msd_value' is not defined",
     "output_type": "error",
     "traceback": [
      "\u001b[0;31m---------------------------------------------------------------------------\u001b[0m",
      "\u001b[0;31mNameError\u001b[0m                                 Traceback (most recent call last)",
      "Cell \u001b[0;32mIn[6], line 1\u001b[0m\n\u001b[0;32m----> 1\u001b[0m av_msd \u001b[38;5;241m=\u001b[39m np\u001b[38;5;241m.\u001b[39mmean(\u001b[43mmsd_value\u001b[49m)\n\u001b[1;32m      2\u001b[0m av_psnr \u001b[38;5;241m=\u001b[39m np\u001b[38;5;241m.\u001b[39mmean(psnr_value)\n\u001b[1;32m      3\u001b[0m av_ssim \u001b[38;5;241m=\u001b[39m np\u001b[38;5;241m.\u001b[39mmean(ssim_value)\n",
      "\u001b[0;31mNameError\u001b[0m: name 'msd_value' is not defined"
     ]
    }
   ],
   "source": [
    "av_msd = np.mean(msd_value)\n",
    "av_psnr = np.mean(psnr_value)\n",
    "av_ssim = np.mean(ssim_value)\n",
    "\n",
    "write_in_file(msd_value, 'msd', name_dataset)\n",
    "write_in_file(psnr_value, 'psnr', name_dataset)\n",
    "write_in_file(ssim_value, 'ssim', name_dataset)\n",
    "\n",
    "print(f'average msd for {dataset_name} = {round(av_msd, 4)}\\naverage psnr for {dataset_name} = {round(av_psnr, 4)}\\naverage ssim for {dataset_name} = {round(av_ssim, 4)}\\n')\n",
    "\n"
   ]
  },
  {
   "cell_type": "code",
   "execution_count": null,
   "metadata": {},
   "outputs": [
    {
     "ename": "",
     "evalue": "",
     "output_type": "error",
     "traceback": [
      "\u001b[1;31mFailed to start the Kernel. \n",
      "\u001b[1;31mOSError: [Errno 28] No space left on device. \n",
      "View Jupyter <a href='command:jupyter.viewOutput'>log</a> for further details."
     ]
    }
   ],
   "source": [
    "def ssim(prediction, target):\n",
    "    C1 = (0.01 * 255)**2\n",
    "    C2 = (0.03 * 255)**2\n",
    "    img1 = prediction.astype(np.float64)\n",
    "    img2 = target.astype(np.float64)\n",
    "    kernel = cv2.getGaussianKernel(11, 1.5)\n",
    "    window = np.outer(kernel, kernel.transpose())\n",
    "    mu1 = cv2.filter2D(img1, -1, window)[5:-5, 5:-5]  # valid\n",
    "    mu2 = cv2.filter2D(img2, -1, window)[5:-5, 5:-5]\n",
    "    mu1_sq = mu1**2\n",
    "    mu2_sq = mu2**2\n",
    "    mu1_mu2 = mu1 * mu2\n",
    "    sigma1_sq = cv2.filter2D(img1**2, -1, window)[5:-5, 5:-5] - mu1_sq\n",
    "    sigma2_sq = cv2.filter2D(img2**2, -1, window)[5:-5, 5:-5] - mu2_sq\n",
    "    sigma12 = cv2.filter2D(img1 * img2, -1, window)[5:-5, 5:-5] - mu1_mu2\n",
    "    ssim_map = ((2 * mu1_mu2 + C1) *\n",
    "                (2 * sigma12 + C2)) / ((mu1_sq + mu2_sq + C1) *\n",
    "                                       (sigma1_sq + sigma2_sq + C2))\n",
    "    return ssim_map.mean()\n",
    "\n",
    "\n",
    "def calculate_ssim(target, ref):\n",
    "    '''\n",
    "    calculate SSIM\n",
    "    the same outputs as MATLAB's\n",
    "    img1, img2: [0, 255]\n",
    "    '''\n",
    "    img1 = np.array(target, dtype=np.float64)\n",
    "    img2 = np.array(ref, dtype=np.float64)\n",
    "    if not img1.shape == img2.shape:\n",
    "        raise ValueError('Input images must have the same dimensions.')\n",
    "    if img1.ndim == 2:\n",
    "        return ssim(img1, img2)\n",
    "    elif img1.ndim == 3:\n",
    "        if img1.shape[2] == 3:\n",
    "            ssims = []\n",
    "            for i in range(3):\n",
    "                ssims.append(ssim(img1[:, :, i], img2[:, :, i]))\n",
    "            return np.array(ssims).mean()\n",
    "        elif img1.shape[2] == 1:\n",
    "            return ssim(np.squeeze(img1), np.squeeze(img2))\n",
    "    else:\n",
    "        raise ValueError('Wrong input image dimensions.')\n",
    "\n",
    "\n",
    "def calculate_psnr(target, ref, data_range=255.0):\n",
    "    img1 = np.array(target, dtype=np.float32)\n",
    "    img2 = np.array(ref, dtype=np.float32)\n",
    "    diff = img1 - img2\n",
    "    psnr = 10.0 * np.log10(data_range**2 / np.mean(np.square(diff)))\n",
    "    return psnr"
   ]
  },
  {
   "cell_type": "code",
   "execution_count": null,
   "metadata": {},
   "outputs": [],
   "source": []
  }
 ],
 "metadata": {
  "kernelspec": {
   "display_name": "Python 3.8.10 64-bit",
   "language": "python",
   "name": "python3"
  },
  "language_info": {
   "codemirror_mode": {
    "name": "ipython",
    "version": 3
   },
   "file_extension": ".py",
   "mimetype": "text/x-python",
   "name": "python",
   "nbconvert_exporter": "python",
   "pygments_lexer": "ipython3",
   "version": "3.8.10"
  },
  "orig_nbformat": 4,
  "vscode": {
   "interpreter": {
    "hash": "767d51c1340bd893661ea55ea3124f6de3c7a262a8b4abca0554b478b1e2ff90"
   }
  }
 },
 "nbformat": 4,
 "nbformat_minor": 2
}
