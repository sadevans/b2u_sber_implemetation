{
 "cells": [
  {
   "cell_type": "code",
   "execution_count": 1,
   "metadata": {},
   "outputs": [],
   "source": [
    "from __future__ import division\n",
    "import os\n",
    "import logging\n",
    "import time\n",
    "import glob\n",
    "import datetime\n",
    "import argparse\n",
    "import numpy as np\n",
    "from scipy.io import loadmat, savemat\n",
    "\n",
    "import cv2\n",
    "from PIL import Image\n",
    "import torch\n",
    "import torch.nn as nn\n",
    "import torch.optim as optim\n",
    "from torch.optim import lr_scheduler\n",
    "from torchvision import transforms\n",
    "from torch.utils.data import DataLoader\n",
    "from torch.utils.data import Dataset\n",
    "\n",
    "from arch_unet import UNet\n",
    "import utils as util\n",
    "from collections import OrderedDict\n",
    "from tqdm import tqdm\n",
    "\n",
    "from Sber_utils import Masker, save_network, load_network, save_state, resume_state, checkpoint, generate_mask, interpolate_mask, depth_to_space, get_generator"
   ]
  },
  {
   "cell_type": "code",
   "execution_count": 2,
   "metadata": {},
   "outputs": [],
   "source": [
    "parser = argparse.ArgumentParser()\n",
    "parser.add_argument(\"--noisetype\", type=str, default=\"gauss25\", choices=['gauss25', 'gauss5_50', 'poisson30', 'poisson5_50'])\n",
    "parser.add_argument('--resume', type=str)\n",
    "parser.add_argument('--checkpoint', type=str)\n",
    "parser.add_argument('--train_dir', type=str, default='./dataset/small/train')\n",
    "parser.add_argument('--test_dir', type=str, default='./dataset/small/validation')\n",
    "parser.add_argument('--save_test_path', type=str, default='./test')\n",
    "parser.add_argument('--save_model_path', type=str, default='../experiments/small')\n",
    "parser.add_argument('--log_name', type=str, default='xxx_b2u_unet_fmdd_112rf20')\n",
    "parser.add_argument('--gpu_devices', default='0', type=str)\n",
    "parser.add_argument('--parallel', action='store_true')\n",
    "parser.add_argument('--n_feature', type=int, default=48)\n",
    "parser.add_argument('--n_channel', type=int, default=1)\n",
    "parser.add_argument('--lr', type=float, default=1e-4)\n",
    "parser.add_argument('--w_decay', type=float, default=1e-8)\n",
    "parser.add_argument('--gamma', type=float, default=0.5)\n",
    "parser.add_argument('--n_epoch', type=int, default=100)\n",
    "parser.add_argument('--n_snapshot', type=int, default=1)\n",
    "parser.add_argument('--batchsize', type=int, default=4)\n",
    "parser.add_argument('--patchsize', type=int, default=128)\n",
    "parser.add_argument(\"--Lambda1\", type=float, default=1.0)\n",
    "parser.add_argument(\"--Lambda2\", type=float, default=2.0)\n",
    "parser.add_argument(\"--increase_ratio\", type=float, default=20.0)\n",
    "parser.add_argument('--test_dataset_name', type=str)\n",
    "parser.add_argument('--train_dataset_name', type=str)\n",
    "parser.add_argument('--repeat_times', type=int, default=3)\n",
    "\n",
    "\n",
    "\n",
    "opt = parser.parse_args([\n",
    "                        '--train_dir', './data/train', \n",
    "                        '--test_dir', './data/test',\n",
    "                        '--save_test_path', './test',\n",
    "                        '--save_model_path', './experiments/my_models', \n",
    "                        '--log_name', 'b2u_second',\n",
    "                        '--test_dataset_name', 'small_b2u_g209',\n",
    "                        '--train_dataset_name', 'b2u_g209',\n",
    "                        '--Lambda1', '1.0',\n",
    "                        '--Lambda2', '2.0',\n",
    "                        '--increase_ratio', '20.0',\n",
    "                        '--n_epoch', '100',\n",
    "                        '--batchsize', '2'\n",
    "                        ])\n",
    "                        \n",
    "systime = datetime.datetime.now().strftime('%Y-%m-%d-%H-%M')\n",
    "operation_seed_counter = 0\n",
    "os.environ['CUDA_VISIBLE_DEVICES'] = opt.gpu_devices\n",
    "torch.set_num_threads(8)\n",
    "\n",
    "opt.save_path = os.path.join(opt.save_model_path, opt.log_name)\n",
    "os.makedirs(opt.save_path, exist_ok=True)"
   ]
  },
  {
   "cell_type": "code",
   "execution_count": 3,
   "metadata": {},
   "outputs": [],
   "source": [
    "def apply_median(img, percentile):\n",
    "    tresh = np.percentile(img.ravel(), percentile)\n",
    "    mask = np.zeros_like(img)\n",
    "    mask[img < tresh] = 1\n",
    "    median_img = cv2.medianBlur(img, 7)\n",
    "    img = img*(1 - mask) + median_img * mask\n",
    "    return img"
   ]
  },
  {
   "cell_type": "code",
   "execution_count": 4,
   "metadata": {},
   "outputs": [],
   "source": [
    "class TestMicroscopyDataset(Dataset):\n",
    "    def __init__(self, img_dir,channels=3, transform=None, apply_median=False):\n",
    "        self.img_dir = img_dir\n",
    "        self.apply_median = apply_median\n",
    "        self.transform = transform\n",
    "        self.img_filenames = os.listdir(img_dir)\n",
    "        if channels == 1:\n",
    "            self.channels = 0\n",
    "        else:\n",
    "            self.channels = channels\n",
    "\n",
    "    def __len__(self):\n",
    "        return len(self.img_filenames)\n",
    "\n",
    "    def __getitem__(self, idx):\n",
    "        name = os.path.split(self.img_filenames[idx])[-1].split('.')[0]\n",
    "\n",
    "        image = cv2.imread(os.path.join(self.img_dir, self.img_filenames[idx]), self.channels)\n",
    "\n",
    "\n",
    "        if self.apply_median:\n",
    "            image = apply_median(image, 10)\n",
    "\n",
    "        if self.transform:\n",
    "            image = self.transform(image)\n",
    "\n",
    "        return image, name"
   ]
  },
  {
   "cell_type": "code",
   "execution_count": 5,
   "metadata": {},
   "outputs": [],
   "source": [
    "class TrainMicroscopyDataset(Dataset):\n",
    "    def __init__(self, img_dir,channels=3, transform=None, patch=256, apply_median=False):\n",
    "        self.img_dir = img_dir\n",
    "        self.apply_median = apply_median\n",
    "        self.transform = transform\n",
    "        self.img_filenames = os.listdir(img_dir)\n",
    "        if channels == 1:\n",
    "            self.channels = 0\n",
    "        else:\n",
    "            self.channels = channels\n",
    "\n",
    "        self.patch = patch\n",
    "        print('fetch {} samples for training'.format(len(self.img_filenames)))\n",
    "\n",
    "    def __getitem__(self, idx):\n",
    "        # fetch image\n",
    "        name = os.path.split(self.img_filenames[idx])[-1].split('.')[0]\n",
    "\n",
    "        image = cv2.imread(os.path.join(self.img_dir, self.img_filenames[idx]), self.channels)\n",
    "        # random crop\n",
    "        if len(image.shape) == 2:\n",
    "            H = image.shape[0]\n",
    "            W = image.shape[1]\n",
    "\n",
    "        CSize = self.patch\n",
    "        rnd_h = np.random.randint(0, max(0, H - CSize))\n",
    "        rnd_w = np.random.randint(0, max(0, W - CSize))\n",
    "        image = image[rnd_h : rnd_h + CSize, rnd_w : rnd_w + CSize]\n",
    "\n",
    "\n",
    "        if self.apply_median:\n",
    "            image = apply_median(image, 10)\n",
    "\n",
    "        if self.transform:\n",
    "            image = self.transform(image)\n",
    "\n",
    "        return image, name\n",
    "\n",
    "    def __len__(self):\n",
    "        return len(self.img_filenames)"
   ]
  },
  {
   "cell_type": "code",
   "execution_count": 6,
   "metadata": {},
   "outputs": [
    {
     "name": "stdout",
     "output_type": "stream",
     "text": [
      "fetch 457 samples for training\n",
      "Batchsize=2, number of epoch=100\n",
      "init finish\n"
     ]
    }
   ],
   "source": [
    "# Dataset\n",
    "train_transforms = transforms.Compose([transforms.ToTensor()])\n",
    "train_dataset_dir = os.path.join(opt.train_dir, opt.train_dataset_name)\n",
    "train_dataset = TrainMicroscopyDataset(train_dataset_dir,opt.n_channel, transform=train_transforms, apply_median=True)\n",
    "train_dataloader = DataLoader(dataset=train_dataset, num_workers=8, batch_size=opt.batchsize, shuffle=True)\n",
    "\n",
    "test_transforms = transforms.Compose([transforms.ToTensor()])\n",
    "test_dataset_dir = os.path.join(opt.test_dir, opt.test_dataset_name)\n",
    "test_dataset = TestMicroscopyDataset(test_dataset_dir,opt.n_channel, transform=test_transforms, apply_median=True)\n",
    "test_dataloader = DataLoader(test_dataset, batch_size=1, shuffle=False)\n",
    "\n",
    "\n",
    "# Masker\n",
    "masker = Masker(width=4, mode='interpolate', mask_type='all')\n",
    "# Network\n",
    "network = UNet(in_channels=opt.n_channel,\n",
    "                out_channels=opt.n_channel,\n",
    "                wf=opt.n_feature)\n",
    "if opt.parallel:\n",
    "    network = torch.nn.DataParallel(network)\n",
    "network = network.cuda()\n",
    "\n",
    "# validation\n",
    "save_test_path = os.path.join(opt.save_test_path, opt.test_dataset_name)\n",
    "os.makedirs(save_test_path, exist_ok=True)\n",
    "\n",
    "validation_path = os.path.join(save_test_path, opt.log_name)\n",
    "os.makedirs(validation_path, exist_ok=True)\n",
    "# np.random.seed(101)\n",
    "\n",
    "# about training scheme\n",
    "num_epoch = opt.n_epoch\n",
    "ratio = num_epoch / 100\n",
    "optimizer = optim.Adam(network.parameters(), lr=opt.lr,\n",
    "                       weight_decay=opt.w_decay)\n",
    "scheduler = lr_scheduler.MultiStepLR(optimizer,\n",
    "                                     milestones=[\n",
    "                                         int(20 * ratio) - 1,\n",
    "                                         int(40 * ratio) - 1,\n",
    "                                         int(60 * ratio) - 1,\n",
    "                                         int(80 * ratio) - 1\n",
    "                                     ],\n",
    "                                     gamma=opt.gamma)\n",
    "print(\"Batchsize={}, number of epoch={}\".format(opt.batchsize, opt.n_epoch))\n",
    "\n",
    "# Resume and load pre-trained model\n",
    "epoch_init = 1\n",
    "if opt.resume is not None:\n",
    "    epoch_init, optimizer, scheduler = resume_state(opt.resume, optimizer, scheduler)\n",
    "if opt.checkpoint is not None:\n",
    "    network = load_network(opt.checkpoint, network, strict=True)\n",
    "\n",
    "# temp\n",
    "if opt.checkpoint is not None:\n",
    "    epoch_init = 65\n",
    "    for i in range(1, epoch_init):\n",
    "        scheduler.step()\n",
    "        new_lr = scheduler.get_lr()[0]\n",
    "        logger.info('----------------------------------------------------')\n",
    "        logger.info(\"==> Resuming Training with learning rate:{}\".format(new_lr))\n",
    "        logger.info('----------------------------------------------------')\n",
    "\n",
    "print('init finish')\n",
    "\n",
    "\n",
    "Thread1 = 0.4\n",
    "Thread2 = 1.0\n",
    "Lambda1 = opt.Lambda1\n",
    "Lambda2 = opt.Lambda2\n",
    "increase_ratio = opt.increase_ratio\n"
   ]
  },
  {
   "cell_type": "code",
   "execution_count": 7,
   "metadata": {},
   "outputs": [
    {
     "name": "stdout",
     "output_type": "stream",
     "text": [
      "LearningRate of Epoch 1 = 0.0001\n"
     ]
    },
    {
     "name": "stderr",
     "output_type": "stream",
     "text": [
      "100%|██████████| 229/229 [02:26<00:00,  1.56it/s]\n"
     ]
    },
    {
     "name": "stdout",
     "output_type": "stream",
     "text": [
      "LearningRate of Epoch 2 = 0.0001\n"
     ]
    },
    {
     "name": "stderr",
     "output_type": "stream",
     "text": [
      "100%|██████████| 229/229 [02:26<00:00,  1.57it/s]\n"
     ]
    },
    {
     "name": "stdout",
     "output_type": "stream",
     "text": [
      "LearningRate of Epoch 3 = 0.0001\n"
     ]
    },
    {
     "name": "stderr",
     "output_type": "stream",
     "text": [
      "100%|██████████| 229/229 [02:26<00:00,  1.57it/s]\n"
     ]
    },
    {
     "name": "stdout",
     "output_type": "stream",
     "text": [
      "LearningRate of Epoch 4 = 0.0001\n"
     ]
    },
    {
     "name": "stderr",
     "output_type": "stream",
     "text": [
      "100%|██████████| 229/229 [02:26<00:00,  1.57it/s]\n"
     ]
    },
    {
     "name": "stdout",
     "output_type": "stream",
     "text": [
      "LearningRate of Epoch 5 = 0.0001\n"
     ]
    },
    {
     "name": "stderr",
     "output_type": "stream",
     "text": [
      "100%|██████████| 229/229 [02:26<00:00,  1.56it/s]\n"
     ]
    },
    {
     "name": "stdout",
     "output_type": "stream",
     "text": [
      "LearningRate of Epoch 6 = 0.0001\n"
     ]
    },
    {
     "name": "stderr",
     "output_type": "stream",
     "text": [
      "100%|██████████| 229/229 [02:26<00:00,  1.56it/s]\n"
     ]
    },
    {
     "name": "stdout",
     "output_type": "stream",
     "text": [
      "LearningRate of Epoch 7 = 0.0001\n"
     ]
    },
    {
     "name": "stderr",
     "output_type": "stream",
     "text": [
      "100%|██████████| 229/229 [02:26<00:00,  1.57it/s]\n"
     ]
    },
    {
     "name": "stdout",
     "output_type": "stream",
     "text": [
      "LearningRate of Epoch 8 = 0.0001\n"
     ]
    },
    {
     "name": "stderr",
     "output_type": "stream",
     "text": [
      "100%|██████████| 229/229 [02:26<00:00,  1.57it/s]\n"
     ]
    },
    {
     "name": "stdout",
     "output_type": "stream",
     "text": [
      "LearningRate of Epoch 9 = 0.0001\n"
     ]
    },
    {
     "name": "stderr",
     "output_type": "stream",
     "text": [
      "100%|██████████| 229/229 [02:26<00:00,  1.57it/s]\n"
     ]
    },
    {
     "name": "stdout",
     "output_type": "stream",
     "text": [
      "LearningRate of Epoch 10 = 0.0001\n"
     ]
    },
    {
     "name": "stderr",
     "output_type": "stream",
     "text": [
      "100%|██████████| 229/229 [02:26<00:00,  1.57it/s]\n"
     ]
    },
    {
     "name": "stdout",
     "output_type": "stream",
     "text": [
      "LearningRate of Epoch 11 = 0.0001\n"
     ]
    },
    {
     "name": "stderr",
     "output_type": "stream",
     "text": [
      "100%|██████████| 229/229 [02:26<00:00,  1.56it/s]\n"
     ]
    },
    {
     "name": "stdout",
     "output_type": "stream",
     "text": [
      "LearningRate of Epoch 12 = 0.0001\n"
     ]
    },
    {
     "name": "stderr",
     "output_type": "stream",
     "text": [
      "100%|██████████| 229/229 [02:26<00:00,  1.57it/s]\n"
     ]
    },
    {
     "name": "stdout",
     "output_type": "stream",
     "text": [
      "LearningRate of Epoch 13 = 0.0001\n"
     ]
    },
    {
     "name": "stderr",
     "output_type": "stream",
     "text": [
      "100%|██████████| 229/229 [02:26<00:00,  1.57it/s]\n"
     ]
    },
    {
     "name": "stdout",
     "output_type": "stream",
     "text": [
      "LearningRate of Epoch 14 = 0.0001\n"
     ]
    },
    {
     "name": "stderr",
     "output_type": "stream",
     "text": [
      "100%|██████████| 229/229 [02:26<00:00,  1.56it/s]\n"
     ]
    },
    {
     "name": "stdout",
     "output_type": "stream",
     "text": [
      "LearningRate of Epoch 15 = 0.0001\n"
     ]
    },
    {
     "name": "stderr",
     "output_type": "stream",
     "text": [
      "100%|██████████| 229/229 [02:26<00:00,  1.57it/s]\n"
     ]
    },
    {
     "name": "stdout",
     "output_type": "stream",
     "text": [
      "LearningRate of Epoch 16 = 0.0001\n"
     ]
    },
    {
     "name": "stderr",
     "output_type": "stream",
     "text": [
      "100%|██████████| 229/229 [02:26<00:00,  1.57it/s]\n"
     ]
    },
    {
     "name": "stdout",
     "output_type": "stream",
     "text": [
      "LearningRate of Epoch 17 = 0.0001\n"
     ]
    },
    {
     "name": "stderr",
     "output_type": "stream",
     "text": [
      "100%|██████████| 229/229 [02:26<00:00,  1.57it/s]\n"
     ]
    },
    {
     "name": "stdout",
     "output_type": "stream",
     "text": [
      "LearningRate of Epoch 18 = 0.0001\n"
     ]
    },
    {
     "name": "stderr",
     "output_type": "stream",
     "text": [
      "100%|██████████| 229/229 [02:26<00:00,  1.56it/s]\n"
     ]
    },
    {
     "name": "stdout",
     "output_type": "stream",
     "text": [
      "LearningRate of Epoch 19 = 0.0001\n"
     ]
    },
    {
     "name": "stderr",
     "output_type": "stream",
     "text": [
      "100%|██████████| 229/229 [02:26<00:00,  1.57it/s]\n"
     ]
    },
    {
     "name": "stdout",
     "output_type": "stream",
     "text": [
      "LearningRate of Epoch 20 = 5e-05\n"
     ]
    },
    {
     "name": "stderr",
     "output_type": "stream",
     "text": [
      "100%|██████████| 229/229 [02:26<00:00,  1.56it/s]\n"
     ]
    },
    {
     "name": "stdout",
     "output_type": "stream",
     "text": [
      "LearningRate of Epoch 21 = 5e-05\n"
     ]
    },
    {
     "name": "stderr",
     "output_type": "stream",
     "text": [
      "100%|██████████| 229/229 [02:26<00:00,  1.56it/s]\n"
     ]
    },
    {
     "name": "stdout",
     "output_type": "stream",
     "text": [
      "LearningRate of Epoch 22 = 5e-05\n"
     ]
    },
    {
     "name": "stderr",
     "output_type": "stream",
     "text": [
      "100%|██████████| 229/229 [02:26<00:00,  1.56it/s]\n"
     ]
    },
    {
     "name": "stdout",
     "output_type": "stream",
     "text": [
      "LearningRate of Epoch 23 = 5e-05\n"
     ]
    },
    {
     "name": "stderr",
     "output_type": "stream",
     "text": [
      "100%|██████████| 229/229 [02:26<00:00,  1.56it/s]\n"
     ]
    },
    {
     "name": "stdout",
     "output_type": "stream",
     "text": [
      "LearningRate of Epoch 24 = 5e-05\n"
     ]
    },
    {
     "name": "stderr",
     "output_type": "stream",
     "text": [
      "100%|██████████| 229/229 [02:26<00:00,  1.56it/s]\n"
     ]
    },
    {
     "name": "stdout",
     "output_type": "stream",
     "text": [
      "LearningRate of Epoch 25 = 5e-05\n"
     ]
    },
    {
     "name": "stderr",
     "output_type": "stream",
     "text": [
      "100%|██████████| 229/229 [02:26<00:00,  1.57it/s]\n"
     ]
    },
    {
     "name": "stdout",
     "output_type": "stream",
     "text": [
      "LearningRate of Epoch 26 = 5e-05\n"
     ]
    },
    {
     "name": "stderr",
     "output_type": "stream",
     "text": [
      "100%|██████████| 229/229 [02:26<00:00,  1.57it/s]\n"
     ]
    },
    {
     "name": "stdout",
     "output_type": "stream",
     "text": [
      "LearningRate of Epoch 27 = 5e-05\n"
     ]
    },
    {
     "name": "stderr",
     "output_type": "stream",
     "text": [
      "100%|██████████| 229/229 [02:26<00:00,  1.57it/s]\n"
     ]
    },
    {
     "name": "stdout",
     "output_type": "stream",
     "text": [
      "LearningRate of Epoch 28 = 5e-05\n"
     ]
    },
    {
     "name": "stderr",
     "output_type": "stream",
     "text": [
      "100%|██████████| 229/229 [02:26<00:00,  1.56it/s]\n"
     ]
    },
    {
     "name": "stdout",
     "output_type": "stream",
     "text": [
      "LearningRate of Epoch 29 = 5e-05\n"
     ]
    },
    {
     "name": "stderr",
     "output_type": "stream",
     "text": [
      "100%|██████████| 229/229 [02:26<00:00,  1.56it/s]\n"
     ]
    },
    {
     "name": "stdout",
     "output_type": "stream",
     "text": [
      "LearningRate of Epoch 30 = 5e-05\n"
     ]
    },
    {
     "name": "stderr",
     "output_type": "stream",
     "text": [
      "100%|██████████| 229/229 [02:26<00:00,  1.57it/s]\n"
     ]
    },
    {
     "name": "stdout",
     "output_type": "stream",
     "text": [
      "LearningRate of Epoch 31 = 5e-05\n"
     ]
    },
    {
     "name": "stderr",
     "output_type": "stream",
     "text": [
      "100%|██████████| 229/229 [02:26<00:00,  1.56it/s]\n"
     ]
    },
    {
     "name": "stdout",
     "output_type": "stream",
     "text": [
      "LearningRate of Epoch 32 = 5e-05\n"
     ]
    },
    {
     "name": "stderr",
     "output_type": "stream",
     "text": [
      "100%|██████████| 229/229 [02:26<00:00,  1.56it/s]\n"
     ]
    },
    {
     "name": "stdout",
     "output_type": "stream",
     "text": [
      "LearningRate of Epoch 33 = 5e-05\n"
     ]
    },
    {
     "name": "stderr",
     "output_type": "stream",
     "text": [
      "100%|██████████| 229/229 [02:26<00:00,  1.57it/s]\n"
     ]
    },
    {
     "name": "stdout",
     "output_type": "stream",
     "text": [
      "LearningRate of Epoch 34 = 5e-05\n"
     ]
    },
    {
     "name": "stderr",
     "output_type": "stream",
     "text": [
      "100%|██████████| 229/229 [02:26<00:00,  1.56it/s]\n"
     ]
    },
    {
     "name": "stdout",
     "output_type": "stream",
     "text": [
      "LearningRate of Epoch 35 = 5e-05\n"
     ]
    },
    {
     "name": "stderr",
     "output_type": "stream",
     "text": [
      "100%|██████████| 229/229 [02:26<00:00,  1.57it/s]\n"
     ]
    },
    {
     "name": "stdout",
     "output_type": "stream",
     "text": [
      "LearningRate of Epoch 36 = 5e-05\n"
     ]
    },
    {
     "name": "stderr",
     "output_type": "stream",
     "text": [
      "100%|██████████| 229/229 [02:26<00:00,  1.56it/s]\n"
     ]
    },
    {
     "name": "stdout",
     "output_type": "stream",
     "text": [
      "LearningRate of Epoch 37 = 5e-05\n"
     ]
    },
    {
     "name": "stderr",
     "output_type": "stream",
     "text": [
      "100%|██████████| 229/229 [02:26<00:00,  1.57it/s]\n"
     ]
    },
    {
     "name": "stdout",
     "output_type": "stream",
     "text": [
      "LearningRate of Epoch 38 = 5e-05\n"
     ]
    },
    {
     "name": "stderr",
     "output_type": "stream",
     "text": [
      "100%|██████████| 229/229 [02:26<00:00,  1.56it/s]\n"
     ]
    },
    {
     "name": "stdout",
     "output_type": "stream",
     "text": [
      "LearningRate of Epoch 39 = 5e-05\n"
     ]
    },
    {
     "name": "stderr",
     "output_type": "stream",
     "text": [
      "100%|██████████| 229/229 [02:26<00:00,  1.56it/s]\n"
     ]
    },
    {
     "name": "stdout",
     "output_type": "stream",
     "text": [
      "LearningRate of Epoch 40 = 2.5e-05\n"
     ]
    },
    {
     "name": "stderr",
     "output_type": "stream",
     "text": [
      "100%|██████████| 229/229 [02:26<00:00,  1.56it/s]\n"
     ]
    },
    {
     "name": "stdout",
     "output_type": "stream",
     "text": [
      "LearningRate of Epoch 41 = 2.5e-05\n"
     ]
    },
    {
     "name": "stderr",
     "output_type": "stream",
     "text": [
      "100%|██████████| 229/229 [02:26<00:00,  1.57it/s]\n"
     ]
    },
    {
     "name": "stdout",
     "output_type": "stream",
     "text": [
      "LearningRate of Epoch 42 = 2.5e-05\n"
     ]
    },
    {
     "name": "stderr",
     "output_type": "stream",
     "text": [
      "100%|██████████| 229/229 [02:26<00:00,  1.56it/s]\n"
     ]
    },
    {
     "name": "stdout",
     "output_type": "stream",
     "text": [
      "LearningRate of Epoch 43 = 2.5e-05\n"
     ]
    },
    {
     "name": "stderr",
     "output_type": "stream",
     "text": [
      "100%|██████████| 229/229 [02:26<00:00,  1.57it/s]\n"
     ]
    },
    {
     "name": "stdout",
     "output_type": "stream",
     "text": [
      "LearningRate of Epoch 44 = 2.5e-05\n"
     ]
    },
    {
     "name": "stderr",
     "output_type": "stream",
     "text": [
      "100%|██████████| 229/229 [02:26<00:00,  1.56it/s]\n"
     ]
    },
    {
     "name": "stdout",
     "output_type": "stream",
     "text": [
      "LearningRate of Epoch 45 = 2.5e-05\n"
     ]
    },
    {
     "name": "stderr",
     "output_type": "stream",
     "text": [
      "100%|██████████| 229/229 [02:26<00:00,  1.56it/s]\n"
     ]
    },
    {
     "name": "stdout",
     "output_type": "stream",
     "text": [
      "LearningRate of Epoch 46 = 2.5e-05\n"
     ]
    },
    {
     "name": "stderr",
     "output_type": "stream",
     "text": [
      "100%|██████████| 229/229 [02:26<00:00,  1.57it/s]\n"
     ]
    },
    {
     "name": "stdout",
     "output_type": "stream",
     "text": [
      "LearningRate of Epoch 47 = 2.5e-05\n"
     ]
    },
    {
     "name": "stderr",
     "output_type": "stream",
     "text": [
      "100%|██████████| 229/229 [02:26<00:00,  1.56it/s]\n"
     ]
    },
    {
     "name": "stdout",
     "output_type": "stream",
     "text": [
      "LearningRate of Epoch 48 = 2.5e-05\n"
     ]
    },
    {
     "name": "stderr",
     "output_type": "stream",
     "text": [
      "100%|██████████| 229/229 [02:26<00:00,  1.56it/s]\n"
     ]
    },
    {
     "name": "stdout",
     "output_type": "stream",
     "text": [
      "LearningRate of Epoch 49 = 2.5e-05\n"
     ]
    },
    {
     "name": "stderr",
     "output_type": "stream",
     "text": [
      "100%|██████████| 229/229 [02:26<00:00,  1.56it/s]\n"
     ]
    },
    {
     "name": "stdout",
     "output_type": "stream",
     "text": [
      "LearningRate of Epoch 50 = 2.5e-05\n"
     ]
    },
    {
     "name": "stderr",
     "output_type": "stream",
     "text": [
      "100%|██████████| 229/229 [02:26<00:00,  1.57it/s]\n"
     ]
    },
    {
     "name": "stdout",
     "output_type": "stream",
     "text": [
      "LearningRate of Epoch 51 = 2.5e-05\n"
     ]
    },
    {
     "name": "stderr",
     "output_type": "stream",
     "text": [
      "100%|██████████| 229/229 [02:26<00:00,  1.56it/s]\n"
     ]
    },
    {
     "name": "stdout",
     "output_type": "stream",
     "text": [
      "LearningRate of Epoch 52 = 2.5e-05\n"
     ]
    },
    {
     "name": "stderr",
     "output_type": "stream",
     "text": [
      "100%|██████████| 229/229 [02:26<00:00,  1.57it/s]\n"
     ]
    },
    {
     "name": "stdout",
     "output_type": "stream",
     "text": [
      "LearningRate of Epoch 53 = 2.5e-05\n"
     ]
    },
    {
     "name": "stderr",
     "output_type": "stream",
     "text": [
      "100%|██████████| 229/229 [02:26<00:00,  1.57it/s]\n"
     ]
    },
    {
     "name": "stdout",
     "output_type": "stream",
     "text": [
      "LearningRate of Epoch 54 = 2.5e-05\n"
     ]
    },
    {
     "name": "stderr",
     "output_type": "stream",
     "text": [
      "100%|██████████| 229/229 [02:26<00:00,  1.56it/s]\n"
     ]
    },
    {
     "name": "stdout",
     "output_type": "stream",
     "text": [
      "LearningRate of Epoch 55 = 2.5e-05\n"
     ]
    },
    {
     "name": "stderr",
     "output_type": "stream",
     "text": [
      "100%|██████████| 229/229 [02:26<00:00,  1.57it/s]\n"
     ]
    },
    {
     "name": "stdout",
     "output_type": "stream",
     "text": [
      "LearningRate of Epoch 56 = 2.5e-05\n"
     ]
    },
    {
     "name": "stderr",
     "output_type": "stream",
     "text": [
      "100%|██████████| 229/229 [02:26<00:00,  1.56it/s]\n"
     ]
    },
    {
     "name": "stdout",
     "output_type": "stream",
     "text": [
      "LearningRate of Epoch 57 = 2.5e-05\n"
     ]
    },
    {
     "name": "stderr",
     "output_type": "stream",
     "text": [
      "100%|██████████| 229/229 [02:26<00:00,  1.57it/s]\n"
     ]
    },
    {
     "name": "stdout",
     "output_type": "stream",
     "text": [
      "LearningRate of Epoch 58 = 2.5e-05\n"
     ]
    },
    {
     "name": "stderr",
     "output_type": "stream",
     "text": [
      "100%|██████████| 229/229 [02:26<00:00,  1.57it/s]\n"
     ]
    },
    {
     "name": "stdout",
     "output_type": "stream",
     "text": [
      "LearningRate of Epoch 59 = 2.5e-05\n"
     ]
    },
    {
     "name": "stderr",
     "output_type": "stream",
     "text": [
      "100%|██████████| 229/229 [02:26<00:00,  1.57it/s]\n"
     ]
    },
    {
     "name": "stdout",
     "output_type": "stream",
     "text": [
      "LearningRate of Epoch 60 = 1.25e-05\n"
     ]
    },
    {
     "name": "stderr",
     "output_type": "stream",
     "text": [
      "100%|██████████| 229/229 [02:26<00:00,  1.57it/s]\n"
     ]
    },
    {
     "name": "stdout",
     "output_type": "stream",
     "text": [
      "LearningRate of Epoch 61 = 1.25e-05\n"
     ]
    },
    {
     "name": "stderr",
     "output_type": "stream",
     "text": [
      "100%|██████████| 229/229 [02:26<00:00,  1.57it/s]\n"
     ]
    },
    {
     "name": "stdout",
     "output_type": "stream",
     "text": [
      "LearningRate of Epoch 62 = 1.25e-05\n"
     ]
    },
    {
     "name": "stderr",
     "output_type": "stream",
     "text": [
      "100%|██████████| 229/229 [02:26<00:00,  1.57it/s]\n"
     ]
    },
    {
     "name": "stdout",
     "output_type": "stream",
     "text": [
      "LearningRate of Epoch 63 = 1.25e-05\n"
     ]
    },
    {
     "name": "stderr",
     "output_type": "stream",
     "text": [
      "100%|██████████| 229/229 [02:26<00:00,  1.56it/s]\n"
     ]
    },
    {
     "name": "stdout",
     "output_type": "stream",
     "text": [
      "LearningRate of Epoch 64 = 1.25e-05\n"
     ]
    },
    {
     "name": "stderr",
     "output_type": "stream",
     "text": [
      "100%|██████████| 229/229 [02:26<00:00,  1.56it/s]\n"
     ]
    },
    {
     "name": "stdout",
     "output_type": "stream",
     "text": [
      "LearningRate of Epoch 65 = 1.25e-05\n"
     ]
    },
    {
     "name": "stderr",
     "output_type": "stream",
     "text": [
      "100%|██████████| 229/229 [02:26<00:00,  1.56it/s]\n"
     ]
    },
    {
     "name": "stdout",
     "output_type": "stream",
     "text": [
      "LearningRate of Epoch 66 = 1.25e-05\n"
     ]
    },
    {
     "name": "stderr",
     "output_type": "stream",
     "text": [
      "100%|██████████| 229/229 [02:26<00:00,  1.57it/s]\n"
     ]
    },
    {
     "name": "stdout",
     "output_type": "stream",
     "text": [
      "LearningRate of Epoch 67 = 1.25e-05\n"
     ]
    },
    {
     "name": "stderr",
     "output_type": "stream",
     "text": [
      "100%|██████████| 229/229 [02:26<00:00,  1.57it/s]\n"
     ]
    },
    {
     "name": "stdout",
     "output_type": "stream",
     "text": [
      "LearningRate of Epoch 68 = 1.25e-05\n"
     ]
    },
    {
     "name": "stderr",
     "output_type": "stream",
     "text": [
      "100%|██████████| 229/229 [02:26<00:00,  1.57it/s]\n"
     ]
    },
    {
     "name": "stdout",
     "output_type": "stream",
     "text": [
      "LearningRate of Epoch 69 = 1.25e-05\n"
     ]
    },
    {
     "name": "stderr",
     "output_type": "stream",
     "text": [
      "100%|██████████| 229/229 [02:26<00:00,  1.57it/s]\n"
     ]
    },
    {
     "name": "stdout",
     "output_type": "stream",
     "text": [
      "LearningRate of Epoch 70 = 1.25e-05\n"
     ]
    },
    {
     "name": "stderr",
     "output_type": "stream",
     "text": [
      "100%|██████████| 229/229 [02:26<00:00,  1.56it/s]\n"
     ]
    },
    {
     "name": "stdout",
     "output_type": "stream",
     "text": [
      "LearningRate of Epoch 71 = 1.25e-05\n"
     ]
    },
    {
     "name": "stderr",
     "output_type": "stream",
     "text": [
      "100%|██████████| 229/229 [02:26<00:00,  1.57it/s]\n"
     ]
    },
    {
     "name": "stdout",
     "output_type": "stream",
     "text": [
      "LearningRate of Epoch 72 = 1.25e-05\n"
     ]
    },
    {
     "name": "stderr",
     "output_type": "stream",
     "text": [
      "100%|██████████| 229/229 [02:26<00:00,  1.56it/s]\n"
     ]
    },
    {
     "name": "stdout",
     "output_type": "stream",
     "text": [
      "LearningRate of Epoch 73 = 1.25e-05\n"
     ]
    },
    {
     "name": "stderr",
     "output_type": "stream",
     "text": [
      "100%|██████████| 229/229 [02:26<00:00,  1.57it/s]\n"
     ]
    },
    {
     "name": "stdout",
     "output_type": "stream",
     "text": [
      "LearningRate of Epoch 74 = 1.25e-05\n"
     ]
    },
    {
     "name": "stderr",
     "output_type": "stream",
     "text": [
      "100%|██████████| 229/229 [02:26<00:00,  1.56it/s]\n"
     ]
    },
    {
     "name": "stdout",
     "output_type": "stream",
     "text": [
      "LearningRate of Epoch 75 = 1.25e-05\n"
     ]
    },
    {
     "name": "stderr",
     "output_type": "stream",
     "text": [
      "100%|██████████| 229/229 [02:26<00:00,  1.57it/s]\n"
     ]
    },
    {
     "name": "stdout",
     "output_type": "stream",
     "text": [
      "LearningRate of Epoch 76 = 1.25e-05\n"
     ]
    },
    {
     "name": "stderr",
     "output_type": "stream",
     "text": [
      "100%|██████████| 229/229 [02:26<00:00,  1.56it/s]\n"
     ]
    },
    {
     "name": "stdout",
     "output_type": "stream",
     "text": [
      "LearningRate of Epoch 77 = 1.25e-05\n"
     ]
    },
    {
     "name": "stderr",
     "output_type": "stream",
     "text": [
      "100%|██████████| 229/229 [02:26<00:00,  1.57it/s]\n"
     ]
    },
    {
     "name": "stdout",
     "output_type": "stream",
     "text": [
      "LearningRate of Epoch 78 = 1.25e-05\n"
     ]
    },
    {
     "name": "stderr",
     "output_type": "stream",
     "text": [
      "100%|██████████| 229/229 [02:26<00:00,  1.57it/s]\n"
     ]
    },
    {
     "name": "stdout",
     "output_type": "stream",
     "text": [
      "LearningRate of Epoch 79 = 1.25e-05\n"
     ]
    },
    {
     "name": "stderr",
     "output_type": "stream",
     "text": [
      "100%|██████████| 229/229 [02:26<00:00,  1.57it/s]\n"
     ]
    },
    {
     "name": "stdout",
     "output_type": "stream",
     "text": [
      "LearningRate of Epoch 80 = 6.25e-06\n"
     ]
    },
    {
     "name": "stderr",
     "output_type": "stream",
     "text": [
      "100%|██████████| 229/229 [02:26<00:00,  1.56it/s]\n"
     ]
    },
    {
     "name": "stdout",
     "output_type": "stream",
     "text": [
      "LearningRate of Epoch 81 = 6.25e-06\n"
     ]
    },
    {
     "name": "stderr",
     "output_type": "stream",
     "text": [
      "100%|██████████| 229/229 [02:26<00:00,  1.57it/s]\n"
     ]
    },
    {
     "name": "stdout",
     "output_type": "stream",
     "text": [
      "LearningRate of Epoch 82 = 6.25e-06\n"
     ]
    },
    {
     "name": "stderr",
     "output_type": "stream",
     "text": [
      "100%|██████████| 229/229 [02:26<00:00,  1.57it/s]\n"
     ]
    },
    {
     "name": "stdout",
     "output_type": "stream",
     "text": [
      "LearningRate of Epoch 83 = 6.25e-06\n"
     ]
    },
    {
     "name": "stderr",
     "output_type": "stream",
     "text": [
      "100%|██████████| 229/229 [02:26<00:00,  1.57it/s]\n"
     ]
    },
    {
     "name": "stdout",
     "output_type": "stream",
     "text": [
      "LearningRate of Epoch 84 = 6.25e-06\n"
     ]
    },
    {
     "name": "stderr",
     "output_type": "stream",
     "text": [
      "100%|██████████| 229/229 [02:26<00:00,  1.56it/s]\n"
     ]
    },
    {
     "name": "stdout",
     "output_type": "stream",
     "text": [
      "LearningRate of Epoch 85 = 6.25e-06\n"
     ]
    },
    {
     "name": "stderr",
     "output_type": "stream",
     "text": [
      "100%|██████████| 229/229 [02:26<00:00,  1.57it/s]\n"
     ]
    },
    {
     "name": "stdout",
     "output_type": "stream",
     "text": [
      "LearningRate of Epoch 86 = 6.25e-06\n"
     ]
    },
    {
     "name": "stderr",
     "output_type": "stream",
     "text": [
      "100%|██████████| 229/229 [02:26<00:00,  1.57it/s]\n"
     ]
    },
    {
     "name": "stdout",
     "output_type": "stream",
     "text": [
      "LearningRate of Epoch 87 = 6.25e-06\n"
     ]
    },
    {
     "name": "stderr",
     "output_type": "stream",
     "text": [
      "100%|██████████| 229/229 [02:26<00:00,  1.57it/s]\n"
     ]
    },
    {
     "name": "stdout",
     "output_type": "stream",
     "text": [
      "LearningRate of Epoch 88 = 6.25e-06\n"
     ]
    },
    {
     "name": "stderr",
     "output_type": "stream",
     "text": [
      "100%|██████████| 229/229 [02:26<00:00,  1.57it/s]\n"
     ]
    },
    {
     "name": "stdout",
     "output_type": "stream",
     "text": [
      "LearningRate of Epoch 89 = 6.25e-06\n"
     ]
    },
    {
     "name": "stderr",
     "output_type": "stream",
     "text": [
      "100%|██████████| 229/229 [02:26<00:00,  1.57it/s]\n"
     ]
    },
    {
     "name": "stdout",
     "output_type": "stream",
     "text": [
      "LearningRate of Epoch 90 = 6.25e-06\n"
     ]
    },
    {
     "name": "stderr",
     "output_type": "stream",
     "text": [
      "100%|██████████| 229/229 [02:26<00:00,  1.57it/s]\n"
     ]
    },
    {
     "name": "stdout",
     "output_type": "stream",
     "text": [
      "LearningRate of Epoch 91 = 6.25e-06\n"
     ]
    },
    {
     "name": "stderr",
     "output_type": "stream",
     "text": [
      "100%|██████████| 229/229 [02:26<00:00,  1.57it/s]\n"
     ]
    },
    {
     "name": "stdout",
     "output_type": "stream",
     "text": [
      "LearningRate of Epoch 92 = 6.25e-06\n"
     ]
    },
    {
     "name": "stderr",
     "output_type": "stream",
     "text": [
      "100%|██████████| 229/229 [02:26<00:00,  1.57it/s]\n"
     ]
    },
    {
     "name": "stdout",
     "output_type": "stream",
     "text": [
      "LearningRate of Epoch 93 = 6.25e-06\n"
     ]
    },
    {
     "name": "stderr",
     "output_type": "stream",
     "text": [
      "100%|██████████| 229/229 [02:26<00:00,  1.57it/s]\n"
     ]
    },
    {
     "name": "stdout",
     "output_type": "stream",
     "text": [
      "LearningRate of Epoch 94 = 6.25e-06\n"
     ]
    },
    {
     "name": "stderr",
     "output_type": "stream",
     "text": [
      "100%|██████████| 229/229 [02:26<00:00,  1.57it/s]\n"
     ]
    },
    {
     "name": "stdout",
     "output_type": "stream",
     "text": [
      "LearningRate of Epoch 95 = 6.25e-06\n"
     ]
    },
    {
     "name": "stderr",
     "output_type": "stream",
     "text": [
      "100%|██████████| 229/229 [02:26<00:00,  1.57it/s]\n"
     ]
    },
    {
     "name": "stdout",
     "output_type": "stream",
     "text": [
      "LearningRate of Epoch 96 = 6.25e-06\n"
     ]
    },
    {
     "name": "stderr",
     "output_type": "stream",
     "text": [
      "100%|██████████| 229/229 [02:26<00:00,  1.57it/s]\n"
     ]
    },
    {
     "name": "stdout",
     "output_type": "stream",
     "text": [
      "LearningRate of Epoch 97 = 6.25e-06\n"
     ]
    },
    {
     "name": "stderr",
     "output_type": "stream",
     "text": [
      "100%|██████████| 229/229 [02:26<00:00,  1.57it/s]\n"
     ]
    },
    {
     "name": "stdout",
     "output_type": "stream",
     "text": [
      "LearningRate of Epoch 98 = 6.25e-06\n"
     ]
    },
    {
     "name": "stderr",
     "output_type": "stream",
     "text": [
      "100%|██████████| 229/229 [02:26<00:00,  1.57it/s]\n"
     ]
    },
    {
     "name": "stdout",
     "output_type": "stream",
     "text": [
      "LearningRate of Epoch 99 = 6.25e-06\n"
     ]
    },
    {
     "name": "stderr",
     "output_type": "stream",
     "text": [
      "100%|██████████| 229/229 [02:26<00:00,  1.56it/s]\n"
     ]
    },
    {
     "name": "stdout",
     "output_type": "stream",
     "text": [
      "LearningRate of Epoch 100 = 6.25e-06\n"
     ]
    },
    {
     "name": "stderr",
     "output_type": "stream",
     "text": [
      "100%|██████████| 229/229 [02:26<00:00,  1.57it/s]\n"
     ]
    }
   ],
   "source": [
    "for epoch in range(epoch_init, opt.n_epoch + 1):\n",
    "    cnt = 0\n",
    "\n",
    "    for param_group in optimizer.param_groups:\n",
    "        current_lr = param_group['lr']\n",
    "    print(\"LearningRate of Epoch {} = {}\".format(epoch, current_lr))\n",
    "\n",
    "    network.train()\n",
    "    for noisy, name in tqdm(train_dataloader):\n",
    "        st = time.time()\n",
    "        # noisy = noisy / 255.0\n",
    "        # print(noisy.shape)\n",
    "\n",
    "        noisy = noisy.cuda()\n",
    "        # print('noisy_mean', noisy.mean())\n",
    "\n",
    "        optimizer.zero_grad()\n",
    "\n",
    "        net_input, mask = masker.train(noisy)\n",
    "        noisy_output = network(net_input)\n",
    "        n, c, h, w = noisy.shape\n",
    "        noisy_output = (noisy_output*mask).view(n, -1, c, h, w).sum(dim=1)\n",
    "        diff = noisy_output - noisy\n",
    "\n",
    "        with torch.no_grad():\n",
    "            exp_output = network(noisy)\n",
    "        exp_diff = exp_output - noisy\n",
    "\n",
    "        # g25, p30: 1_1-2; frange-10\n",
    "        # g5-50 | p5-50 | raw; 1_1-2; range-10\n",
    "        Lambda = epoch / opt.n_epoch\n",
    "        if Lambda <= Thread1:\n",
    "            beta = Lambda2\n",
    "        elif Thread1 <= Lambda <= Thread2:\n",
    "            beta = Lambda2 + (Lambda - Thread1) * \\\n",
    "                (increase_ratio-Lambda2) / (Thread2-Thread1)\n",
    "        else:\n",
    "            beta = increase_ratio\n",
    "        alpha = Lambda1\n",
    "\n",
    "        revisible = diff + beta * exp_diff\n",
    "        loss_reg = alpha * torch.mean(diff**2)\n",
    "        loss_rev = torch.mean(revisible**2)\n",
    "        loss_all = loss_reg + loss_rev\n",
    "\n",
    "        loss_all.backward()\n",
    "        optimizer.step()\n",
    "        \n",
    "    scheduler.step()\n",
    "\n",
    "    if epoch % opt.n_snapshot == 0 or epoch == opt.n_epoch:\n",
    "        network.eval()\n",
    "        # save checkpoint\n",
    "        save_network(network, epoch, \"model\", opt=opt)\n",
    "        save_state(epoch, optimizer, scheduler, opt=opt)\n",
    "\n",
    "        # validation\n",
    "        np.random.seed(101)\n",
    "\n",
    "        save_dir = os.path.join(validation_path, f'epoch_{epoch}')\n",
    "        os.makedirs(save_dir, exist_ok=True)\n",
    "\n",
    "\n",
    "        # for idx in range(num_img):\n",
    "        for im, name in test_dataloader:\n",
    "            \n",
    "            if type(im) == torch.Tensor:\n",
    "                if len(im.shape) == 4: \n",
    "                    im = im.squeeze(0)\n",
    "                im = im.permute(1,2,0)\n",
    "                im = im.numpy()\n",
    "            origin255 = im.copy() * 255\n",
    "            origin255 = origin255.astype(np.uint8)\n",
    "            im = np.array(im, dtype=np.float32) #/ 255.0\n",
    "            noisy_im = im.copy() # add\n",
    "            noisy255 = noisy_im.copy()\n",
    "            noisy255 = np.clip(noisy255 * 255.0 + 0.5, 0,\n",
    "                                255).astype(np.uint8)\n",
    "\n",
    "            # padding to square\n",
    "            H = noisy_im.shape[0]\n",
    "            W = noisy_im.shape[1]\n",
    "            val_size = (max(H, W) + 31) // 32 * 32\n",
    "            noisy_im = np.pad(\n",
    "                noisy_im,\n",
    "                [[0, val_size - H], [0, val_size - W], [0, 0]],\n",
    "                'reflect')\n",
    "            transformer = transforms.Compose([transforms.ToTensor()])\n",
    "            noisy_im = transformer(noisy_im)\n",
    "            noisy_im = torch.unsqueeze(noisy_im, 0)\n",
    "            noisy_im = noisy_im.cuda()\n",
    "            with torch.no_grad():\n",
    "                n, c, h, w = noisy_im.shape\n",
    "                net_input, mask = masker.train(noisy_im)\n",
    "                noisy_output = (network(net_input) *\n",
    "                                mask).view(n, -1, c, h, w).sum(dim=1)\n",
    "                dn_output = noisy_output.detach().clone()\n",
    "                # Release gpu memory\n",
    "                del net_input, mask, noisy_output\n",
    "                torch.cuda.empty_cache()\n",
    "                exp_output = network(noisy_im)\n",
    "            pred_dn = dn_output[:, :, :H, :W]\n",
    "            pred_exp = exp_output.detach().clone()[:, :, :H, :W]\n",
    "            # print('pred_exp mean', pred_exp.mean())\n",
    "            pred_mid = (pred_dn + beta*pred_exp) / (1 + beta)\n",
    "\n",
    "            # Release gpu memory\n",
    "            del exp_output\n",
    "            torch.cuda.empty_cache()\n",
    "\n",
    "            pred_dn = pred_dn.permute(0, 2, 3, 1)\n",
    "            pred_exp = pred_exp.permute(0, 2, 3, 1)\n",
    "            pred_mid = pred_mid.permute(0, 2, 3, 1)\n",
    "\n",
    "            pred_dn = pred_dn.cpu().data.clamp(0, 1).numpy().squeeze(0)\n",
    "            pred_exp = pred_exp.cpu().data.clamp(0, 1).numpy().squeeze(0)\n",
    "            pred_mid = pred_mid.cpu().data.clamp(0, 1).numpy().squeeze(0)\n",
    "\n",
    "            pred255_dn = np.clip(pred_dn * 255.0 + 0.5, 0,\n",
    "                                    255).astype(np.uint8)\n",
    "            pred255_exp = np.clip(pred_exp * 255.0 + 0.5, 0,\n",
    "                                    255).astype(np.uint8)\n",
    "            pred255_mid = np.clip(pred_mid * 255.0 + 0.5, 0,\n",
    "                                    255).astype(np.uint8)\n",
    "\n",
    "\n",
    "            # visualization\n",
    "            if opt.n_channel == 1:\n",
    "                color_mode = 'L'\n",
    "                save_path = os.path.join(save_dir, f\"{name}_clean.png\")\n",
    "                Image.fromarray(origin255.squeeze()).convert(color_mode).save(save_path)\n",
    "\n",
    "                save_path = os.path.join(save_dir, f\"{name}_noisy.png\")    \n",
    "                Image.fromarray(noisy255.squeeze()).convert(color_mode).save(save_path)\n",
    "\n",
    "                save_path = os.path.join(save_dir, f\"{name}_dn.png\") \n",
    "                Image.fromarray(pred255_dn.squeeze()).convert(color_mode).save(save_path)\n",
    "\n",
    "                save_path = os.path.join(save_dir, f\"{name}_exp.png\") \n",
    "                Image.fromarray(pred255_exp.squeeze()).convert(color_mode).save(save_path)\n",
    "\n",
    "                save_path = os.path.join(save_dir, f\"{name}_mid.png\") \n",
    "                Image.fromarray(pred255_mid.squeeze()).convert(color_mode).save(save_path)\n",
    "            else:\n",
    "                color_mode = 'L'\n",
    "                save_path = os.path.join(save_dir, f\"{name}_clean.png\")\n",
    "                Image.fromarray(origin255).convert(color_mode).save(save_path)\n",
    "\n",
    "                save_path = os.path.join(save_dir, f\"{name}_noisy.png\")    \n",
    "                Image.fromarray(noisy255).convert(color_mode).save(save_path)\n",
    "\n",
    "                save_path = os.path.join(save_dir, f\"{name}_dn.png\") \n",
    "                Image.fromarray(pred255_dn).convert(color_mode).save(save_path)\n",
    "\n",
    "                save_path = os.path.join(save_dir, f\"{name}_exp.png\") \n",
    "                Image.fromarray(pred255_exp).convert(color_mode).save(save_path)\n",
    "\n",
    "                save_path = os.path.join(save_dir, f\"{name}-_mid.png\") \n",
    "                Image.fromarray(pred255_mid).convert(color_mode).save(save_path)\n",
    "\n"
   ]
  },
  {
   "cell_type": "code",
   "execution_count": null,
   "metadata": {},
   "outputs": [
    {
     "name": "stdout",
     "output_type": "stream",
     "text": [
      "Tile_001-004-000_0-000.png  Tile_001-030-000_0-000.png\n"
     ]
    }
   ],
   "source": [
    "!ls data/test/small_b2u_g209"
   ]
  },
  {
   "cell_type": "code",
   "execution_count": 43,
   "metadata": {},
   "outputs": [
    {
     "data": {
      "text/plain": [
       "True"
      ]
     },
     "execution_count": 43,
     "metadata": {},
     "output_type": "execute_result"
    }
   ],
   "source": [
    "img = cv2.imread('data/test/small_b2u_g209/Tile_001-008-000_0-000.png',0)\n",
    "crop = img[1000:1480, 1000:1640]\n",
    "cv2.imwrite ('data/test/small_b2u_g209/Tile_001-008-000_0-000_1.png',crop )"
   ]
  },
  {
   "cell_type": "code",
   "execution_count": 34,
   "metadata": {},
   "outputs": [],
   "source": [
    "torch.cuda.empty_cache()"
   ]
  },
  {
   "cell_type": "code",
   "execution_count": null,
   "metadata": {},
   "outputs": [],
   "source": []
  }
 ],
 "metadata": {
  "kernelspec": {
   "display_name": "Python 3.8.17 ('b2u')",
   "language": "python",
   "name": "python3"
  },
  "language_info": {
   "codemirror_mode": {
    "name": "ipython",
    "version": 3
   },
   "file_extension": ".py",
   "mimetype": "text/x-python",
   "name": "python",
   "nbconvert_exporter": "python",
   "pygments_lexer": "ipython3",
   "version": "3.8.17"
  },
  "orig_nbformat": 4,
  "vscode": {
   "interpreter": {
    "hash": "4f6574e0f1b25f170aaba03e2351043641f02eb46efc17834ea2ed04c3a8ee1d"
   }
  }
 },
 "nbformat": 4,
 "nbformat_minor": 2
}
